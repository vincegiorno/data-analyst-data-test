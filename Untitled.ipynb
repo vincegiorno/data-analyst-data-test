{
 "cells": [
  {
   "cell_type": "code",
   "execution_count": 1,
   "metadata": {
    "collapsed": false
   },
   "outputs": [],
   "source": [
    "cars <- read.csv('Cars_mileage.csv', stringsAsFactors=FALSE)"
   ]
  },
  {
   "cell_type": "code",
   "execution_count": 2,
   "metadata": {
    "collapsed": false
   },
   "outputs": [
    {
     "name": "stdout",
     "output_type": "stream",
     "text": [
      "'data.frame':\t397 obs. of  9 variables:\n",
      " $ mpg         : num  18 15 18 16 17 15 14 14 14 15 ...\n",
      " $ cylinders   : int  8 8 8 8 8 8 8 8 8 8 ...\n",
      " $ displacement: num  307 350 318 304 302 429 454 440 455 390 ...\n",
      " $ horsepower  : chr  \"130\" \"165\" \"150\" \"150\" ...\n",
      " $ weight      : int  3504 3693 3436 3433 3449 4341 4354 4312 4425 3850 ...\n",
      " $ acceleration: num  12 11.5 11 12 10.5 10 9 8.5 10 8.5 ...\n",
      " $ year        : int  70 70 70 70 70 70 70 70 70 70 ...\n",
      " $ origin      : int  1 1 1 1 1 1 1 1 1 1 ...\n",
      " $ name        : chr  \"chevrolet chevelle malibu\" \"buick skylark 320\" \"plymouth satellite\" \"amc rebel sst\" ...\n"
     ]
    }
   ],
   "source": [
    "str(cars)"
   ]
  },
  {
   "cell_type": "code",
   "execution_count": 3,
   "metadata": {
    "collapsed": false
   },
   "outputs": [
    {
     "data": {
      "text/html": [
       "5"
      ],
      "text/latex": [
       "5"
      ],
      "text/markdown": [
       "5"
      ],
      "text/plain": [
       "[1] 5"
      ]
     },
     "metadata": {},
     "output_type": "display_data"
    }
   ],
   "source": [
    "sum(cars == '?')"
   ]
  },
  {
   "cell_type": "code",
   "execution_count": 4,
   "metadata": {
    "collapsed": false
   },
   "outputs": [],
   "source": [
    "cars <- cars[!(cars$horsepower == '?'),] # only 5 records with missing values, so delete them"
   ]
  },
  {
   "cell_type": "code",
   "execution_count": 5,
   "metadata": {
    "collapsed": false
   },
   "outputs": [],
   "source": [
    "cars$horsepower <- as.numeric(cars$horsepower)"
   ]
  },
  {
   "cell_type": "code",
   "execution_count": 6,
   "metadata": {
    "collapsed": false
   },
   "outputs": [
    {
     "name": "stdout",
     "output_type": "stream",
     "text": [
      "'data.frame':\t392 obs. of  9 variables:\n",
      " $ mpg         : num  18 15 18 16 17 15 14 14 14 15 ...\n",
      " $ cylinders   : int  8 8 8 8 8 8 8 8 8 8 ...\n",
      " $ displacement: num  307 350 318 304 302 429 454 440 455 390 ...\n",
      " $ horsepower  : num  130 165 150 150 140 198 220 215 225 190 ...\n",
      " $ weight      : int  3504 3693 3436 3433 3449 4341 4354 4312 4425 3850 ...\n",
      " $ acceleration: num  12 11.5 11 12 10.5 10 9 8.5 10 8.5 ...\n",
      " $ year        : int  70 70 70 70 70 70 70 70 70 70 ...\n",
      " $ origin      : int  1 1 1 1 1 1 1 1 1 1 ...\n",
      " $ name        : chr  \"chevrolet chevelle malibu\" \"buick skylark 320\" \"plymouth satellite\" \"amc rebel sst\" ...\n"
     ]
    }
   ],
   "source": [
    "str(cars)"
   ]
  },
  {
   "cell_type": "code",
   "execution_count": 7,
   "metadata": {
    "collapsed": false
   },
   "outputs": [
    {
     "data": {
      "text/plain": [
       "      mpg          cylinders      displacement     horsepower        weight    \n",
       " Min.   : 9.00   Min.   :3.000   Min.   : 68.0   Min.   : 46.0   Min.   :1613  \n",
       " 1st Qu.:17.00   1st Qu.:4.000   1st Qu.:105.0   1st Qu.: 75.0   1st Qu.:2225  \n",
       " Median :22.75   Median :4.000   Median :151.0   Median : 93.5   Median :2804  \n",
       " Mean   :23.45   Mean   :5.472   Mean   :194.4   Mean   :104.5   Mean   :2978  \n",
       " 3rd Qu.:29.00   3rd Qu.:8.000   3rd Qu.:275.8   3rd Qu.:126.0   3rd Qu.:3615  \n",
       " Max.   :46.60   Max.   :8.000   Max.   :455.0   Max.   :230.0   Max.   :5140  \n",
       "  acceleration        year           origin          name          \n",
       " Min.   : 8.00   Min.   :70.00   Min.   :1.000   Length:392        \n",
       " 1st Qu.:13.78   1st Qu.:73.00   1st Qu.:1.000   Class :character  \n",
       " Median :15.50   Median :76.00   Median :1.000   Mode  :character  \n",
       " Mean   :15.54   Mean   :75.98   Mean   :1.577                     \n",
       " 3rd Qu.:17.02   3rd Qu.:79.00   3rd Qu.:2.000                     \n",
       " Max.   :24.80   Max.   :82.00   Max.   :3.000                     "
      ]
     },
     "metadata": {},
     "output_type": "display_data"
    }
   ],
   "source": [
    "summary(cars)"
   ]
  },
  {
   "cell_type": "code",
   "execution_count": 8,
   "metadata": {
    "collapsed": false
   },
   "outputs": [],
   "source": [
    "cars <- transform(cars, wagon = ifelse(grepl(\"\\\\(sw\\\\)\", name), 1, 0))"
   ]
  },
  {
   "cell_type": "code",
   "execution_count": 9,
   "metadata": {
    "collapsed": false
   },
   "outputs": [
    {
     "data": {
      "text/html": [
       "28"
      ],
      "text/latex": [
       "28"
      ],
      "text/markdown": [
       "28"
      ],
      "text/plain": [
       "[1] 28"
      ]
     },
     "metadata": {},
     "output_type": "display_data"
    }
   ],
   "source": [
    "sum(cars$wagon == 1)"
   ]
  },
  {
   "cell_type": "code",
   "execution_count": 10,
   "metadata": {
    "collapsed": false
   },
   "outputs": [],
   "source": [
    "cars <- transform(cars, diesel = ifelse(grepl(\"diesel\", name), 1, 0))"
   ]
  },
  {
   "cell_type": "code",
   "execution_count": 11,
   "metadata": {
    "collapsed": false
   },
   "outputs": [
    {
     "data": {
      "text/html": [
       "7"
      ],
      "text/latex": [
       "7"
      ],
      "text/markdown": [
       "7"
      ],
      "text/plain": [
       "[1] 7"
      ]
     },
     "metadata": {},
     "output_type": "display_data"
    }
   ],
   "source": [
    "sum(cars$diesel == 1)"
   ]
  },
  {
   "cell_type": "code",
   "execution_count": 12,
   "metadata": {
    "collapsed": true
   },
   "outputs": [],
   "source": [
    "cars$year <- as.factor(cars$year)"
   ]
  },
  {
   "cell_type": "code",
   "execution_count": 13,
   "metadata": {
    "collapsed": true
   },
   "outputs": [],
   "source": [
    "cars$origin <- as.factor(cars$origin)"
   ]
  },
  {
   "cell_type": "code",
   "execution_count": 14,
   "metadata": {
    "collapsed": true
   },
   "outputs": [],
   "source": [
    "mpg_median = median(cars$mpg)"
   ]
  },
  {
   "cell_type": "code",
   "execution_count": 15,
   "metadata": {
    "collapsed": false
   },
   "outputs": [],
   "source": [
    "cars <- transform(cars, mpg_binary = mpg>mpg_median)"
   ]
  },
  {
   "cell_type": "code",
   "execution_count": 16,
   "metadata": {
    "collapsed": false
   },
   "outputs": [
    {
     "data": {
      "text/html": [
       "<table>\n",
       "<thead><tr><th></th><th scope=col>mpg</th><th scope=col>cylinders</th><th scope=col>displacement</th><th scope=col>horsepower</th><th scope=col>weight</th><th scope=col>acceleration</th><th scope=col>year</th><th scope=col>origin</th><th scope=col>name</th><th scope=col>wagon</th><th scope=col>diesel</th><th scope=col>mpg_binary</th></tr></thead>\n",
       "<tbody>\n",
       "\t<tr><th scope=row>1</th><td>18                          </td><td>8                           </td><td>307                         </td><td>130                         </td><td>3504                        </td><td>12.0                        </td><td>70                          </td><td>1                           </td><td>chevrolet chevelle malibu   </td><td>0                           </td><td>0                           </td><td>FALSE                       </td></tr>\n",
       "\t<tr><th scope=row>2</th><td>15                          </td><td>8                           </td><td>350                         </td><td>165                         </td><td>3693                        </td><td>11.5                        </td><td>70                          </td><td>1                           </td><td>buick skylark 320           </td><td>0                           </td><td>0                           </td><td>FALSE                       </td></tr>\n",
       "\t<tr><th scope=row>3</th><td>18                          </td><td>8                           </td><td>318                         </td><td>150                         </td><td>3436                        </td><td>11.0                        </td><td>70                          </td><td>1                           </td><td>plymouth satellite          </td><td>0                           </td><td>0                           </td><td>FALSE                       </td></tr>\n",
       "\t<tr><th scope=row>4</th><td>16                          </td><td>8                           </td><td>304                         </td><td>150                         </td><td>3433                        </td><td>12.0                        </td><td>70                          </td><td>1                           </td><td>amc rebel sst               </td><td>0                           </td><td>0                           </td><td>FALSE                       </td></tr>\n",
       "\t<tr><th scope=row>5</th><td>17                          </td><td>8                           </td><td>302                         </td><td>140                         </td><td>3449                        </td><td>10.5                        </td><td>70                          </td><td>1                           </td><td>ford torino                 </td><td>0                           </td><td>0                           </td><td>FALSE                       </td></tr>\n",
       "\t<tr><th scope=row>6</th><td>15                          </td><td>8                           </td><td>429                         </td><td>198                         </td><td>4341                        </td><td>10.0                        </td><td>70                          </td><td>1                           </td><td>ford galaxie 500            </td><td>0                           </td><td>0                           </td><td>FALSE                       </td></tr>\n",
       "\t<tr><th scope=row>7</th><td>14                          </td><td>8                           </td><td>454                         </td><td>220                         </td><td>4354                        </td><td> 9.0                        </td><td>70                          </td><td>1                           </td><td>chevrolet impala            </td><td>0                           </td><td>0                           </td><td>FALSE                       </td></tr>\n",
       "\t<tr><th scope=row>8</th><td>14                          </td><td>8                           </td><td>440                         </td><td>215                         </td><td>4312                        </td><td> 8.5                        </td><td>70                          </td><td>1                           </td><td>plymouth fury iii           </td><td>0                           </td><td>0                           </td><td>FALSE                       </td></tr>\n",
       "\t<tr><th scope=row>9</th><td>14                          </td><td>8                           </td><td>455                         </td><td>225                         </td><td>4425                        </td><td>10.0                        </td><td>70                          </td><td>1                           </td><td>pontiac catalina            </td><td>0                           </td><td>0                           </td><td>FALSE                       </td></tr>\n",
       "\t<tr><th scope=row>10</th><td>15                          </td><td>8                           </td><td>390                         </td><td>190                         </td><td>3850                        </td><td> 8.5                        </td><td>70                          </td><td>1                           </td><td>amc ambassador dpl          </td><td>0                           </td><td>0                           </td><td>FALSE                       </td></tr>\n",
       "\t<tr><th scope=row>11</th><td>15                          </td><td>8                           </td><td>383                         </td><td>170                         </td><td>3563                        </td><td>10.0                        </td><td>70                          </td><td>1                           </td><td>dodge challenger se         </td><td>0                           </td><td>0                           </td><td>FALSE                       </td></tr>\n",
       "\t<tr><th scope=row>12</th><td>14                          </td><td>8                           </td><td>340                         </td><td>160                         </td><td>3609                        </td><td> 8.0                        </td><td>70                          </td><td>1                           </td><td>plymouth 'cuda 340          </td><td>0                           </td><td>0                           </td><td>FALSE                       </td></tr>\n",
       "\t<tr><th scope=row>13</th><td>15                          </td><td>8                           </td><td>400                         </td><td>150                         </td><td>3761                        </td><td> 9.5                        </td><td>70                          </td><td>1                           </td><td>chevrolet monte carlo       </td><td>0                           </td><td>0                           </td><td>FALSE                       </td></tr>\n",
       "\t<tr><th scope=row>14</th><td>14                          </td><td>8                           </td><td>455                         </td><td>225                         </td><td>3086                        </td><td>10.0                        </td><td>70                          </td><td>1                           </td><td>buick estate wagon (sw)     </td><td>1                           </td><td>0                           </td><td>FALSE                       </td></tr>\n",
       "\t<tr><th scope=row>15</th><td>24                          </td><td>4                           </td><td>113                         </td><td> 95                         </td><td>2372                        </td><td>15.0                        </td><td>70                          </td><td>3                           </td><td>toyota corona mark ii       </td><td>0                           </td><td>0                           </td><td> TRUE                       </td></tr>\n",
       "\t<tr><th scope=row>16</th><td>22                          </td><td>6                           </td><td>198                         </td><td> 95                         </td><td>2833                        </td><td>15.5                        </td><td>70                          </td><td>1                           </td><td>plymouth duster             </td><td>0                           </td><td>0                           </td><td>FALSE                       </td></tr>\n",
       "\t<tr><th scope=row>17</th><td>18                          </td><td>6                           </td><td>199                         </td><td> 97                         </td><td>2774                        </td><td>15.5                        </td><td>70                          </td><td>1                           </td><td>amc hornet                  </td><td>0                           </td><td>0                           </td><td>FALSE                       </td></tr>\n",
       "\t<tr><th scope=row>18</th><td>21                          </td><td>6                           </td><td>200                         </td><td> 85                         </td><td>2587                        </td><td>16.0                        </td><td>70                          </td><td>1                           </td><td>ford maverick               </td><td>0                           </td><td>0                           </td><td>FALSE                       </td></tr>\n",
       "\t<tr><th scope=row>19</th><td>27                          </td><td>4                           </td><td> 97                         </td><td> 88                         </td><td>2130                        </td><td>14.5                        </td><td>70                          </td><td>3                           </td><td>datsun pl510                </td><td>0                           </td><td>0                           </td><td> TRUE                       </td></tr>\n",
       "\t<tr><th scope=row>20</th><td>26                          </td><td>4                           </td><td> 97                         </td><td> 46                         </td><td>1835                        </td><td>20.5                        </td><td>70                          </td><td>2                           </td><td>volkswagen 1131 deluxe sedan</td><td>0                           </td><td>0                           </td><td> TRUE                       </td></tr>\n",
       "\t<tr><th scope=row>21</th><td>25                          </td><td>4                           </td><td>110                         </td><td> 87                         </td><td>2672                        </td><td>17.5                        </td><td>70                          </td><td>2                           </td><td>peugeot 504                 </td><td>0                           </td><td>0                           </td><td> TRUE                       </td></tr>\n",
       "\t<tr><th scope=row>22</th><td>24                          </td><td>4                           </td><td>107                         </td><td> 90                         </td><td>2430                        </td><td>14.5                        </td><td>70                          </td><td>2                           </td><td>audi 100 ls                 </td><td>0                           </td><td>0                           </td><td> TRUE                       </td></tr>\n",
       "\t<tr><th scope=row>23</th><td>25                          </td><td>4                           </td><td>104                         </td><td> 95                         </td><td>2375                        </td><td>17.5                        </td><td>70                          </td><td>2                           </td><td>saab 99e                    </td><td>0                           </td><td>0                           </td><td> TRUE                       </td></tr>\n",
       "\t<tr><th scope=row>24</th><td>26                          </td><td>4                           </td><td>121                         </td><td>113                         </td><td>2234                        </td><td>12.5                        </td><td>70                          </td><td>2                           </td><td>bmw 2002                    </td><td>0                           </td><td>0                           </td><td> TRUE                       </td></tr>\n",
       "\t<tr><th scope=row>25</th><td>21                          </td><td>6                           </td><td>199                         </td><td> 90                         </td><td>2648                        </td><td>15.0                        </td><td>70                          </td><td>1                           </td><td>amc gremlin                 </td><td>0                           </td><td>0                           </td><td>FALSE                       </td></tr>\n",
       "\t<tr><th scope=row>26</th><td>10                          </td><td>8                           </td><td>360                         </td><td>215                         </td><td>4615                        </td><td>14.0                        </td><td>70                          </td><td>1                           </td><td>ford f250                   </td><td>0                           </td><td>0                           </td><td>FALSE                       </td></tr>\n",
       "\t<tr><th scope=row>27</th><td>10                          </td><td>8                           </td><td>307                         </td><td>200                         </td><td>4376                        </td><td>15.0                        </td><td>70                          </td><td>1                           </td><td>chevy c20                   </td><td>0                           </td><td>0                           </td><td>FALSE                       </td></tr>\n",
       "\t<tr><th scope=row>28</th><td>11                          </td><td>8                           </td><td>318                         </td><td>210                         </td><td>4382                        </td><td>13.5                        </td><td>70                          </td><td>1                           </td><td>dodge d200                  </td><td>0                           </td><td>0                           </td><td>FALSE                       </td></tr>\n",
       "\t<tr><th scope=row>29</th><td> 9                          </td><td>8                           </td><td>304                         </td><td>193                         </td><td>4732                        </td><td>18.5                        </td><td>70                          </td><td>1                           </td><td>hi 1200d                    </td><td>0                           </td><td>0                           </td><td>FALSE                       </td></tr>\n",
       "\t<tr><th scope=row>30</th><td>27                          </td><td>4                           </td><td> 97                         </td><td> 88                         </td><td>2130                        </td><td>14.5                        </td><td>71                          </td><td>3                           </td><td>datsun pl510                </td><td>0                           </td><td>0                           </td><td> TRUE                       </td></tr>\n",
       "\t<tr><th scope=row>⋮</th><td>⋮</td><td>⋮</td><td>⋮</td><td>⋮</td><td>⋮</td><td>⋮</td><td>⋮</td><td>⋮</td><td>⋮</td><td>⋮</td><td>⋮</td><td>⋮</td></tr>\n",
       "\t<tr><th scope=row>368</th><td>28                               </td><td>4                                </td><td>112                              </td><td> 88                              </td><td>2605                             </td><td>19.6                             </td><td>82                               </td><td>1                                </td><td>chevrolet cavalier               </td><td>0                                </td><td>0                                </td><td> TRUE                            </td></tr>\n",
       "\t<tr><th scope=row>369</th><td>27                               </td><td>4                                </td><td>112                              </td><td> 88                              </td><td>2640                             </td><td>18.6                             </td><td>82                               </td><td>1                                </td><td>chevrolet cavalier wagon         </td><td>0                                </td><td>0                                </td><td> TRUE                            </td></tr>\n",
       "\t<tr><th scope=row>370</th><td>34                               </td><td>4                                </td><td>112                              </td><td> 88                              </td><td>2395                             </td><td>18.0                             </td><td>82                               </td><td>1                                </td><td>chevrolet cavalier 2-door        </td><td>0                                </td><td>0                                </td><td> TRUE                            </td></tr>\n",
       "\t<tr><th scope=row>371</th><td>31                               </td><td>4                                </td><td>112                              </td><td> 85                              </td><td>2575                             </td><td>16.2                             </td><td>82                               </td><td>1                                </td><td>pontiac j2000 se hatchback       </td><td>0                                </td><td>0                                </td><td> TRUE                            </td></tr>\n",
       "\t<tr><th scope=row>372</th><td>29                               </td><td>4                                </td><td>135                              </td><td> 84                              </td><td>2525                             </td><td>16.0                             </td><td>82                               </td><td>1                                </td><td>dodge aries se                   </td><td>0                                </td><td>0                                </td><td> TRUE                            </td></tr>\n",
       "\t<tr><th scope=row>373</th><td>27                               </td><td>4                                </td><td>151                              </td><td> 90                              </td><td>2735                             </td><td>18.0                             </td><td>82                               </td><td>1                                </td><td>pontiac phoenix                  </td><td>0                                </td><td>0                                </td><td> TRUE                            </td></tr>\n",
       "\t<tr><th scope=row>374</th><td>24                               </td><td>4                                </td><td>140                              </td><td> 92                              </td><td>2865                             </td><td>16.4                             </td><td>82                               </td><td>1                                </td><td>ford fairmont futura             </td><td>0                                </td><td>0                                </td><td> TRUE                            </td></tr>\n",
       "\t<tr><th scope=row>375</th><td>36                               </td><td>4                                </td><td>105                              </td><td> 74                              </td><td>1980                             </td><td>15.3                             </td><td>82                               </td><td>2                                </td><td>volkswagen rabbit l              </td><td>0                                </td><td>0                                </td><td> TRUE                            </td></tr>\n",
       "\t<tr><th scope=row>376</th><td>37                               </td><td>4                                </td><td> 91                              </td><td> 68                              </td><td>2025                             </td><td>18.2                             </td><td>82                               </td><td>3                                </td><td>mazda glc custom l               </td><td>0                                </td><td>0                                </td><td> TRUE                            </td></tr>\n",
       "\t<tr><th scope=row>377</th><td>31                               </td><td>4                                </td><td> 91                              </td><td> 68                              </td><td>1970                             </td><td>17.6                             </td><td>82                               </td><td>3                                </td><td>mazda glc custom                 </td><td>0                                </td><td>0                                </td><td> TRUE                            </td></tr>\n",
       "\t<tr><th scope=row>378</th><td>38                               </td><td>4                                </td><td>105                              </td><td> 63                              </td><td>2125                             </td><td>14.7                             </td><td>82                               </td><td>1                                </td><td>plymouth horizon miser           </td><td>0                                </td><td>0                                </td><td> TRUE                            </td></tr>\n",
       "\t<tr><th scope=row>379</th><td>36                               </td><td>4                                </td><td> 98                              </td><td> 70                              </td><td>2125                             </td><td>17.3                             </td><td>82                               </td><td>1                                </td><td>mercury lynx l                   </td><td>0                                </td><td>0                                </td><td> TRUE                            </td></tr>\n",
       "\t<tr><th scope=row>380</th><td>36                               </td><td>4                                </td><td>120                              </td><td> 88                              </td><td>2160                             </td><td>14.5                             </td><td>82                               </td><td>3                                </td><td>nissan stanza xe                 </td><td>0                                </td><td>0                                </td><td> TRUE                            </td></tr>\n",
       "\t<tr><th scope=row>381</th><td>36                               </td><td>4                                </td><td>107                              </td><td> 75                              </td><td>2205                             </td><td>14.5                             </td><td>82                               </td><td>3                                </td><td>honda accord                     </td><td>0                                </td><td>0                                </td><td> TRUE                            </td></tr>\n",
       "\t<tr><th scope=row>382</th><td>34                               </td><td>4                                </td><td>108                              </td><td> 70                              </td><td>2245                             </td><td>16.9                             </td><td>82                               </td><td>3                                </td><td>toyota corolla                   </td><td>0                                </td><td>0                                </td><td> TRUE                            </td></tr>\n",
       "\t<tr><th scope=row>383</th><td>38                               </td><td>4                                </td><td> 91                              </td><td> 67                              </td><td>1965                             </td><td>15.0                             </td><td>82                               </td><td>3                                </td><td>honda civic                      </td><td>0                                </td><td>0                                </td><td> TRUE                            </td></tr>\n",
       "\t<tr><th scope=row>384</th><td>32                               </td><td>4                                </td><td> 91                              </td><td> 67                              </td><td>1965                             </td><td>15.7                             </td><td>82                               </td><td>3                                </td><td>honda civic (auto)               </td><td>0                                </td><td>0                                </td><td> TRUE                            </td></tr>\n",
       "\t<tr><th scope=row>385</th><td>38                               </td><td>4                                </td><td> 91                              </td><td> 67                              </td><td>1995                             </td><td>16.2                             </td><td>82                               </td><td>3                                </td><td>datsun 310 gx                    </td><td>0                                </td><td>0                                </td><td> TRUE                            </td></tr>\n",
       "\t<tr><th scope=row>386</th><td>25                               </td><td>6                                </td><td>181                              </td><td>110                              </td><td>2945                             </td><td>16.4                             </td><td>82                               </td><td>1                                </td><td>buick century limited            </td><td>0                                </td><td>0                                </td><td> TRUE                            </td></tr>\n",
       "\t<tr><th scope=row>387</th><td>38                               </td><td>6                                </td><td>262                              </td><td> 85                              </td><td>3015                             </td><td>17.0                             </td><td>82                               </td><td>1                                </td><td>oldsmobile cutlass ciera (diesel)</td><td>0                                </td><td>1                                </td><td> TRUE                            </td></tr>\n",
       "\t<tr><th scope=row>388</th><td>26                               </td><td>4                                </td><td>156                              </td><td> 92                              </td><td>2585                             </td><td>14.5                             </td><td>82                               </td><td>1                                </td><td>chrysler lebaron medallion       </td><td>0                                </td><td>0                                </td><td> TRUE                            </td></tr>\n",
       "\t<tr><th scope=row>389</th><td>22                               </td><td>6                                </td><td>232                              </td><td>112                              </td><td>2835                             </td><td>14.7                             </td><td>82                               </td><td>1                                </td><td>ford granada l                   </td><td>0                                </td><td>0                                </td><td>FALSE                            </td></tr>\n",
       "\t<tr><th scope=row>390</th><td>32                               </td><td>4                                </td><td>144                              </td><td> 96                              </td><td>2665                             </td><td>13.9                             </td><td>82                               </td><td>3                                </td><td>toyota celica gt                 </td><td>0                                </td><td>0                                </td><td> TRUE                            </td></tr>\n",
       "\t<tr><th scope=row>391</th><td>36                               </td><td>4                                </td><td>135                              </td><td> 84                              </td><td>2370                             </td><td>13.0                             </td><td>82                               </td><td>1                                </td><td>dodge charger 2.2                </td><td>0                                </td><td>0                                </td><td> TRUE                            </td></tr>\n",
       "\t<tr><th scope=row>392</th><td>27                               </td><td>4                                </td><td>151                              </td><td> 90                              </td><td>2950                             </td><td>17.3                             </td><td>82                               </td><td>1                                </td><td>chevrolet camaro                 </td><td>0                                </td><td>0                                </td><td> TRUE                            </td></tr>\n",
       "\t<tr><th scope=row>393</th><td>27                               </td><td>4                                </td><td>140                              </td><td> 86                              </td><td>2790                             </td><td>15.6                             </td><td>82                               </td><td>1                                </td><td>ford mustang gl                  </td><td>0                                </td><td>0                                </td><td> TRUE                            </td></tr>\n",
       "\t<tr><th scope=row>394</th><td>44                               </td><td>4                                </td><td> 97                              </td><td> 52                              </td><td>2130                             </td><td>24.6                             </td><td>82                               </td><td>2                                </td><td>vw pickup                        </td><td>0                                </td><td>0                                </td><td> TRUE                            </td></tr>\n",
       "\t<tr><th scope=row>395</th><td>32                               </td><td>4                                </td><td>135                              </td><td> 84                              </td><td>2295                             </td><td>11.6                             </td><td>82                               </td><td>1                                </td><td>dodge rampage                    </td><td>0                                </td><td>0                                </td><td> TRUE                            </td></tr>\n",
       "\t<tr><th scope=row>396</th><td>28                               </td><td>4                                </td><td>120                              </td><td> 79                              </td><td>2625                             </td><td>18.6                             </td><td>82                               </td><td>1                                </td><td>ford ranger                      </td><td>0                                </td><td>0                                </td><td> TRUE                            </td></tr>\n",
       "\t<tr><th scope=row>397</th><td>31                               </td><td>4                                </td><td>119                              </td><td> 82                              </td><td>2720                             </td><td>19.4                             </td><td>82                               </td><td>1                                </td><td>chevy s-10                       </td><td>0                                </td><td>0                                </td><td> TRUE                            </td></tr>\n",
       "</tbody>\n",
       "</table>\n"
      ],
      "text/latex": [
       "\\begin{tabular}{r|llllllllllll}\n",
       "  & mpg & cylinders & displacement & horsepower & weight & acceleration & year & origin & name & wagon & diesel & mpg\\_binary\\\\\n",
       "\\hline\n",
       "\t1 & 18                           & 8                            & 307                          & 130                          & 3504                         & 12.0                         & 70                           & 1                            & chevrolet chevelle malibu    & 0                            & 0                            & FALSE                       \\\\\n",
       "\t2 & 15                           & 8                            & 350                          & 165                          & 3693                         & 11.5                         & 70                           & 1                            & buick skylark 320            & 0                            & 0                            & FALSE                       \\\\\n",
       "\t3 & 18                           & 8                            & 318                          & 150                          & 3436                         & 11.0                         & 70                           & 1                            & plymouth satellite           & 0                            & 0                            & FALSE                       \\\\\n",
       "\t4 & 16                           & 8                            & 304                          & 150                          & 3433                         & 12.0                         & 70                           & 1                            & amc rebel sst                & 0                            & 0                            & FALSE                       \\\\\n",
       "\t5 & 17                           & 8                            & 302                          & 140                          & 3449                         & 10.5                         & 70                           & 1                            & ford torino                  & 0                            & 0                            & FALSE                       \\\\\n",
       "\t6 & 15                           & 8                            & 429                          & 198                          & 4341                         & 10.0                         & 70                           & 1                            & ford galaxie 500             & 0                            & 0                            & FALSE                       \\\\\n",
       "\t7 & 14                           & 8                            & 454                          & 220                          & 4354                         &  9.0                         & 70                           & 1                            & chevrolet impala             & 0                            & 0                            & FALSE                       \\\\\n",
       "\t8 & 14                           & 8                            & 440                          & 215                          & 4312                         &  8.5                         & 70                           & 1                            & plymouth fury iii            & 0                            & 0                            & FALSE                       \\\\\n",
       "\t9 & 14                           & 8                            & 455                          & 225                          & 4425                         & 10.0                         & 70                           & 1                            & pontiac catalina             & 0                            & 0                            & FALSE                       \\\\\n",
       "\t10 & 15                           & 8                            & 390                          & 190                          & 3850                         &  8.5                         & 70                           & 1                            & amc ambassador dpl           & 0                            & 0                            & FALSE                       \\\\\n",
       "\t11 & 15                           & 8                            & 383                          & 170                          & 3563                         & 10.0                         & 70                           & 1                            & dodge challenger se          & 0                            & 0                            & FALSE                       \\\\\n",
       "\t12 & 14                           & 8                            & 340                          & 160                          & 3609                         &  8.0                         & 70                           & 1                            & plymouth 'cuda 340           & 0                            & 0                            & FALSE                       \\\\\n",
       "\t13 & 15                           & 8                            & 400                          & 150                          & 3761                         &  9.5                         & 70                           & 1                            & chevrolet monte carlo        & 0                            & 0                            & FALSE                       \\\\\n",
       "\t14 & 14                           & 8                            & 455                          & 225                          & 3086                         & 10.0                         & 70                           & 1                            & buick estate wagon (sw)      & 1                            & 0                            & FALSE                       \\\\\n",
       "\t15 & 24                           & 4                            & 113                          &  95                          & 2372                         & 15.0                         & 70                           & 3                            & toyota corona mark ii        & 0                            & 0                            &  TRUE                       \\\\\n",
       "\t16 & 22                           & 6                            & 198                          &  95                          & 2833                         & 15.5                         & 70                           & 1                            & plymouth duster              & 0                            & 0                            & FALSE                       \\\\\n",
       "\t17 & 18                           & 6                            & 199                          &  97                          & 2774                         & 15.5                         & 70                           & 1                            & amc hornet                   & 0                            & 0                            & FALSE                       \\\\\n",
       "\t18 & 21                           & 6                            & 200                          &  85                          & 2587                         & 16.0                         & 70                           & 1                            & ford maverick                & 0                            & 0                            & FALSE                       \\\\\n",
       "\t19 & 27                           & 4                            &  97                          &  88                          & 2130                         & 14.5                         & 70                           & 3                            & datsun pl510                 & 0                            & 0                            &  TRUE                       \\\\\n",
       "\t20 & 26                           & 4                            &  97                          &  46                          & 1835                         & 20.5                         & 70                           & 2                            & volkswagen 1131 deluxe sedan & 0                            & 0                            &  TRUE                       \\\\\n",
       "\t21 & 25                           & 4                            & 110                          &  87                          & 2672                         & 17.5                         & 70                           & 2                            & peugeot 504                  & 0                            & 0                            &  TRUE                       \\\\\n",
       "\t22 & 24                           & 4                            & 107                          &  90                          & 2430                         & 14.5                         & 70                           & 2                            & audi 100 ls                  & 0                            & 0                            &  TRUE                       \\\\\n",
       "\t23 & 25                           & 4                            & 104                          &  95                          & 2375                         & 17.5                         & 70                           & 2                            & saab 99e                     & 0                            & 0                            &  TRUE                       \\\\\n",
       "\t24 & 26                           & 4                            & 121                          & 113                          & 2234                         & 12.5                         & 70                           & 2                            & bmw 2002                     & 0                            & 0                            &  TRUE                       \\\\\n",
       "\t25 & 21                           & 6                            & 199                          &  90                          & 2648                         & 15.0                         & 70                           & 1                            & amc gremlin                  & 0                            & 0                            & FALSE                       \\\\\n",
       "\t26 & 10                           & 8                            & 360                          & 215                          & 4615                         & 14.0                         & 70                           & 1                            & ford f250                    & 0                            & 0                            & FALSE                       \\\\\n",
       "\t27 & 10                           & 8                            & 307                          & 200                          & 4376                         & 15.0                         & 70                           & 1                            & chevy c20                    & 0                            & 0                            & FALSE                       \\\\\n",
       "\t28 & 11                           & 8                            & 318                          & 210                          & 4382                         & 13.5                         & 70                           & 1                            & dodge d200                   & 0                            & 0                            & FALSE                       \\\\\n",
       "\t29 &  9                           & 8                            & 304                          & 193                          & 4732                         & 18.5                         & 70                           & 1                            & hi 1200d                     & 0                            & 0                            & FALSE                       \\\\\n",
       "\t30 & 27                           & 4                            &  97                          &  88                          & 2130                         & 14.5                         & 71                           & 3                            & datsun pl510                 & 0                            & 0                            &  TRUE                       \\\\\n",
       "\t⋮ & ⋮ & ⋮ & ⋮ & ⋮ & ⋮ & ⋮ & ⋮ & ⋮ & ⋮ & ⋮ & ⋮ & ⋮\\\\\n",
       "\t368 & 28                                & 4                                 & 112                               &  88                               & 2605                              & 19.6                              & 82                                & 1                                 & chevrolet cavalier                & 0                                 & 0                                 &  TRUE                            \\\\\n",
       "\t369 & 27                                & 4                                 & 112                               &  88                               & 2640                              & 18.6                              & 82                                & 1                                 & chevrolet cavalier wagon          & 0                                 & 0                                 &  TRUE                            \\\\\n",
       "\t370 & 34                                & 4                                 & 112                               &  88                               & 2395                              & 18.0                              & 82                                & 1                                 & chevrolet cavalier 2-door         & 0                                 & 0                                 &  TRUE                            \\\\\n",
       "\t371 & 31                                & 4                                 & 112                               &  85                               & 2575                              & 16.2                              & 82                                & 1                                 & pontiac j2000 se hatchback        & 0                                 & 0                                 &  TRUE                            \\\\\n",
       "\t372 & 29                                & 4                                 & 135                               &  84                               & 2525                              & 16.0                              & 82                                & 1                                 & dodge aries se                    & 0                                 & 0                                 &  TRUE                            \\\\\n",
       "\t373 & 27                                & 4                                 & 151                               &  90                               & 2735                              & 18.0                              & 82                                & 1                                 & pontiac phoenix                   & 0                                 & 0                                 &  TRUE                            \\\\\n",
       "\t374 & 24                                & 4                                 & 140                               &  92                               & 2865                              & 16.4                              & 82                                & 1                                 & ford fairmont futura              & 0                                 & 0                                 &  TRUE                            \\\\\n",
       "\t375 & 36                                & 4                                 & 105                               &  74                               & 1980                              & 15.3                              & 82                                & 2                                 & volkswagen rabbit l               & 0                                 & 0                                 &  TRUE                            \\\\\n",
       "\t376 & 37                                & 4                                 &  91                               &  68                               & 2025                              & 18.2                              & 82                                & 3                                 & mazda glc custom l                & 0                                 & 0                                 &  TRUE                            \\\\\n",
       "\t377 & 31                                & 4                                 &  91                               &  68                               & 1970                              & 17.6                              & 82                                & 3                                 & mazda glc custom                  & 0                                 & 0                                 &  TRUE                            \\\\\n",
       "\t378 & 38                                & 4                                 & 105                               &  63                               & 2125                              & 14.7                              & 82                                & 1                                 & plymouth horizon miser            & 0                                 & 0                                 &  TRUE                            \\\\\n",
       "\t379 & 36                                & 4                                 &  98                               &  70                               & 2125                              & 17.3                              & 82                                & 1                                 & mercury lynx l                    & 0                                 & 0                                 &  TRUE                            \\\\\n",
       "\t380 & 36                                & 4                                 & 120                               &  88                               & 2160                              & 14.5                              & 82                                & 3                                 & nissan stanza xe                  & 0                                 & 0                                 &  TRUE                            \\\\\n",
       "\t381 & 36                                & 4                                 & 107                               &  75                               & 2205                              & 14.5                              & 82                                & 3                                 & honda accord                      & 0                                 & 0                                 &  TRUE                            \\\\\n",
       "\t382 & 34                                & 4                                 & 108                               &  70                               & 2245                              & 16.9                              & 82                                & 3                                 & toyota corolla                    & 0                                 & 0                                 &  TRUE                            \\\\\n",
       "\t383 & 38                                & 4                                 &  91                               &  67                               & 1965                              & 15.0                              & 82                                & 3                                 & honda civic                       & 0                                 & 0                                 &  TRUE                            \\\\\n",
       "\t384 & 32                                & 4                                 &  91                               &  67                               & 1965                              & 15.7                              & 82                                & 3                                 & honda civic (auto)                & 0                                 & 0                                 &  TRUE                            \\\\\n",
       "\t385 & 38                                & 4                                 &  91                               &  67                               & 1995                              & 16.2                              & 82                                & 3                                 & datsun 310 gx                     & 0                                 & 0                                 &  TRUE                            \\\\\n",
       "\t386 & 25                                & 6                                 & 181                               & 110                               & 2945                              & 16.4                              & 82                                & 1                                 & buick century limited             & 0                                 & 0                                 &  TRUE                            \\\\\n",
       "\t387 & 38                                & 6                                 & 262                               &  85                               & 3015                              & 17.0                              & 82                                & 1                                 & oldsmobile cutlass ciera (diesel) & 0                                 & 1                                 &  TRUE                            \\\\\n",
       "\t388 & 26                                & 4                                 & 156                               &  92                               & 2585                              & 14.5                              & 82                                & 1                                 & chrysler lebaron medallion        & 0                                 & 0                                 &  TRUE                            \\\\\n",
       "\t389 & 22                                & 6                                 & 232                               & 112                               & 2835                              & 14.7                              & 82                                & 1                                 & ford granada l                    & 0                                 & 0                                 & FALSE                            \\\\\n",
       "\t390 & 32                                & 4                                 & 144                               &  96                               & 2665                              & 13.9                              & 82                                & 3                                 & toyota celica gt                  & 0                                 & 0                                 &  TRUE                            \\\\\n",
       "\t391 & 36                                & 4                                 & 135                               &  84                               & 2370                              & 13.0                              & 82                                & 1                                 & dodge charger 2.2                 & 0                                 & 0                                 &  TRUE                            \\\\\n",
       "\t392 & 27                                & 4                                 & 151                               &  90                               & 2950                              & 17.3                              & 82                                & 1                                 & chevrolet camaro                  & 0                                 & 0                                 &  TRUE                            \\\\\n",
       "\t393 & 27                                & 4                                 & 140                               &  86                               & 2790                              & 15.6                              & 82                                & 1                                 & ford mustang gl                   & 0                                 & 0                                 &  TRUE                            \\\\\n",
       "\t394 & 44                                & 4                                 &  97                               &  52                               & 2130                              & 24.6                              & 82                                & 2                                 & vw pickup                         & 0                                 & 0                                 &  TRUE                            \\\\\n",
       "\t395 & 32                                & 4                                 & 135                               &  84                               & 2295                              & 11.6                              & 82                                & 1                                 & dodge rampage                     & 0                                 & 0                                 &  TRUE                            \\\\\n",
       "\t396 & 28                                & 4                                 & 120                               &  79                               & 2625                              & 18.6                              & 82                                & 1                                 & ford ranger                       & 0                                 & 0                                 &  TRUE                            \\\\\n",
       "\t397 & 31                                & 4                                 & 119                               &  82                               & 2720                              & 19.4                              & 82                                & 1                                 & chevy s-10                        & 0                                 & 0                                 &  TRUE                            \\\\\n",
       "\\end{tabular}\n"
      ],
      "text/markdown": [
       "\n",
       "| <!--/--> | mpg | cylinders | displacement | horsepower | weight | acceleration | year | origin | name | wagon | diesel | mpg_binary | \n",
       "|---|---|---|---|---|---|---|---|---|---|---|---|---|---|---|---|---|---|---|---|---|---|---|---|---|---|---|---|---|---|---|---|---|---|---|---|---|---|---|---|---|---|---|---|---|---|---|---|---|---|---|---|---|---|---|---|---|---|---|---|---|\n",
       "| 1 | 18                           | 8                            | 307                          | 130                          | 3504                         | 12.0                         | 70                           | 1                            | chevrolet chevelle malibu    | 0                            | 0                            | FALSE                        | \n",
       "| 2 | 15                           | 8                            | 350                          | 165                          | 3693                         | 11.5                         | 70                           | 1                            | buick skylark 320            | 0                            | 0                            | FALSE                        | \n",
       "| 3 | 18                           | 8                            | 318                          | 150                          | 3436                         | 11.0                         | 70                           | 1                            | plymouth satellite           | 0                            | 0                            | FALSE                        | \n",
       "| 4 | 16                           | 8                            | 304                          | 150                          | 3433                         | 12.0                         | 70                           | 1                            | amc rebel sst                | 0                            | 0                            | FALSE                        | \n",
       "| 5 | 17                           | 8                            | 302                          | 140                          | 3449                         | 10.5                         | 70                           | 1                            | ford torino                  | 0                            | 0                            | FALSE                        | \n",
       "| 6 | 15                           | 8                            | 429                          | 198                          | 4341                         | 10.0                         | 70                           | 1                            | ford galaxie 500             | 0                            | 0                            | FALSE                        | \n",
       "| 7 | 14                           | 8                            | 454                          | 220                          | 4354                         |  9.0                         | 70                           | 1                            | chevrolet impala             | 0                            | 0                            | FALSE                        | \n",
       "| 8 | 14                           | 8                            | 440                          | 215                          | 4312                         |  8.5                         | 70                           | 1                            | plymouth fury iii            | 0                            | 0                            | FALSE                        | \n",
       "| 9 | 14                           | 8                            | 455                          | 225                          | 4425                         | 10.0                         | 70                           | 1                            | pontiac catalina             | 0                            | 0                            | FALSE                        | \n",
       "| 10 | 15                           | 8                            | 390                          | 190                          | 3850                         |  8.5                         | 70                           | 1                            | amc ambassador dpl           | 0                            | 0                            | FALSE                        | \n",
       "| 11 | 15                           | 8                            | 383                          | 170                          | 3563                         | 10.0                         | 70                           | 1                            | dodge challenger se          | 0                            | 0                            | FALSE                        | \n",
       "| 12 | 14                           | 8                            | 340                          | 160                          | 3609                         |  8.0                         | 70                           | 1                            | plymouth 'cuda 340           | 0                            | 0                            | FALSE                        | \n",
       "| 13 | 15                           | 8                            | 400                          | 150                          | 3761                         |  9.5                         | 70                           | 1                            | chevrolet monte carlo        | 0                            | 0                            | FALSE                        | \n",
       "| 14 | 14                           | 8                            | 455                          | 225                          | 3086                         | 10.0                         | 70                           | 1                            | buick estate wagon (sw)      | 1                            | 0                            | FALSE                        | \n",
       "| 15 | 24                           | 4                            | 113                          |  95                          | 2372                         | 15.0                         | 70                           | 3                            | toyota corona mark ii        | 0                            | 0                            |  TRUE                        | \n",
       "| 16 | 22                           | 6                            | 198                          |  95                          | 2833                         | 15.5                         | 70                           | 1                            | plymouth duster              | 0                            | 0                            | FALSE                        | \n",
       "| 17 | 18                           | 6                            | 199                          |  97                          | 2774                         | 15.5                         | 70                           | 1                            | amc hornet                   | 0                            | 0                            | FALSE                        | \n",
       "| 18 | 21                           | 6                            | 200                          |  85                          | 2587                         | 16.0                         | 70                           | 1                            | ford maverick                | 0                            | 0                            | FALSE                        | \n",
       "| 19 | 27                           | 4                            |  97                          |  88                          | 2130                         | 14.5                         | 70                           | 3                            | datsun pl510                 | 0                            | 0                            |  TRUE                        | \n",
       "| 20 | 26                           | 4                            |  97                          |  46                          | 1835                         | 20.5                         | 70                           | 2                            | volkswagen 1131 deluxe sedan | 0                            | 0                            |  TRUE                        | \n",
       "| 21 | 25                           | 4                            | 110                          |  87                          | 2672                         | 17.5                         | 70                           | 2                            | peugeot 504                  | 0                            | 0                            |  TRUE                        | \n",
       "| 22 | 24                           | 4                            | 107                          |  90                          | 2430                         | 14.5                         | 70                           | 2                            | audi 100 ls                  | 0                            | 0                            |  TRUE                        | \n",
       "| 23 | 25                           | 4                            | 104                          |  95                          | 2375                         | 17.5                         | 70                           | 2                            | saab 99e                     | 0                            | 0                            |  TRUE                        | \n",
       "| 24 | 26                           | 4                            | 121                          | 113                          | 2234                         | 12.5                         | 70                           | 2                            | bmw 2002                     | 0                            | 0                            |  TRUE                        | \n",
       "| 25 | 21                           | 6                            | 199                          |  90                          | 2648                         | 15.0                         | 70                           | 1                            | amc gremlin                  | 0                            | 0                            | FALSE                        | \n",
       "| 26 | 10                           | 8                            | 360                          | 215                          | 4615                         | 14.0                         | 70                           | 1                            | ford f250                    | 0                            | 0                            | FALSE                        | \n",
       "| 27 | 10                           | 8                            | 307                          | 200                          | 4376                         | 15.0                         | 70                           | 1                            | chevy c20                    | 0                            | 0                            | FALSE                        | \n",
       "| 28 | 11                           | 8                            | 318                          | 210                          | 4382                         | 13.5                         | 70                           | 1                            | dodge d200                   | 0                            | 0                            | FALSE                        | \n",
       "| 29 |  9                           | 8                            | 304                          | 193                          | 4732                         | 18.5                         | 70                           | 1                            | hi 1200d                     | 0                            | 0                            | FALSE                        | \n",
       "| 30 | 27                           | 4                            |  97                          |  88                          | 2130                         | 14.5                         | 71                           | 3                            | datsun pl510                 | 0                            | 0                            |  TRUE                        | \n",
       "| ⋮ | ⋮ | ⋮ | ⋮ | ⋮ | ⋮ | ⋮ | ⋮ | ⋮ | ⋮ | ⋮ | ⋮ | ⋮ | \n",
       "| 368 | 28                                | 4                                 | 112                               |  88                               | 2605                              | 19.6                              | 82                                | 1                                 | chevrolet cavalier                | 0                                 | 0                                 |  TRUE                             | \n",
       "| 369 | 27                                | 4                                 | 112                               |  88                               | 2640                              | 18.6                              | 82                                | 1                                 | chevrolet cavalier wagon          | 0                                 | 0                                 |  TRUE                             | \n",
       "| 370 | 34                                | 4                                 | 112                               |  88                               | 2395                              | 18.0                              | 82                                | 1                                 | chevrolet cavalier 2-door         | 0                                 | 0                                 |  TRUE                             | \n",
       "| 371 | 31                                | 4                                 | 112                               |  85                               | 2575                              | 16.2                              | 82                                | 1                                 | pontiac j2000 se hatchback        | 0                                 | 0                                 |  TRUE                             | \n",
       "| 372 | 29                                | 4                                 | 135                               |  84                               | 2525                              | 16.0                              | 82                                | 1                                 | dodge aries se                    | 0                                 | 0                                 |  TRUE                             | \n",
       "| 373 | 27                                | 4                                 | 151                               |  90                               | 2735                              | 18.0                              | 82                                | 1                                 | pontiac phoenix                   | 0                                 | 0                                 |  TRUE                             | \n",
       "| 374 | 24                                | 4                                 | 140                               |  92                               | 2865                              | 16.4                              | 82                                | 1                                 | ford fairmont futura              | 0                                 | 0                                 |  TRUE                             | \n",
       "| 375 | 36                                | 4                                 | 105                               |  74                               | 1980                              | 15.3                              | 82                                | 2                                 | volkswagen rabbit l               | 0                                 | 0                                 |  TRUE                             | \n",
       "| 376 | 37                                | 4                                 |  91                               |  68                               | 2025                              | 18.2                              | 82                                | 3                                 | mazda glc custom l                | 0                                 | 0                                 |  TRUE                             | \n",
       "| 377 | 31                                | 4                                 |  91                               |  68                               | 1970                              | 17.6                              | 82                                | 3                                 | mazda glc custom                  | 0                                 | 0                                 |  TRUE                             | \n",
       "| 378 | 38                                | 4                                 | 105                               |  63                               | 2125                              | 14.7                              | 82                                | 1                                 | plymouth horizon miser            | 0                                 | 0                                 |  TRUE                             | \n",
       "| 379 | 36                                | 4                                 |  98                               |  70                               | 2125                              | 17.3                              | 82                                | 1                                 | mercury lynx l                    | 0                                 | 0                                 |  TRUE                             | \n",
       "| 380 | 36                                | 4                                 | 120                               |  88                               | 2160                              | 14.5                              | 82                                | 3                                 | nissan stanza xe                  | 0                                 | 0                                 |  TRUE                             | \n",
       "| 381 | 36                                | 4                                 | 107                               |  75                               | 2205                              | 14.5                              | 82                                | 3                                 | honda accord                      | 0                                 | 0                                 |  TRUE                             | \n",
       "| 382 | 34                                | 4                                 | 108                               |  70                               | 2245                              | 16.9                              | 82                                | 3                                 | toyota corolla                    | 0                                 | 0                                 |  TRUE                             | \n",
       "| 383 | 38                                | 4                                 |  91                               |  67                               | 1965                              | 15.0                              | 82                                | 3                                 | honda civic                       | 0                                 | 0                                 |  TRUE                             | \n",
       "| 384 | 32                                | 4                                 |  91                               |  67                               | 1965                              | 15.7                              | 82                                | 3                                 | honda civic (auto)                | 0                                 | 0                                 |  TRUE                             | \n",
       "| 385 | 38                                | 4                                 |  91                               |  67                               | 1995                              | 16.2                              | 82                                | 3                                 | datsun 310 gx                     | 0                                 | 0                                 |  TRUE                             | \n",
       "| 386 | 25                                | 6                                 | 181                               | 110                               | 2945                              | 16.4                              | 82                                | 1                                 | buick century limited             | 0                                 | 0                                 |  TRUE                             | \n",
       "| 387 | 38                                | 6                                 | 262                               |  85                               | 3015                              | 17.0                              | 82                                | 1                                 | oldsmobile cutlass ciera (diesel) | 0                                 | 1                                 |  TRUE                             | \n",
       "| 388 | 26                                | 4                                 | 156                               |  92                               | 2585                              | 14.5                              | 82                                | 1                                 | chrysler lebaron medallion        | 0                                 | 0                                 |  TRUE                             | \n",
       "| 389 | 22                                | 6                                 | 232                               | 112                               | 2835                              | 14.7                              | 82                                | 1                                 | ford granada l                    | 0                                 | 0                                 | FALSE                             | \n",
       "| 390 | 32                                | 4                                 | 144                               |  96                               | 2665                              | 13.9                              | 82                                | 3                                 | toyota celica gt                  | 0                                 | 0                                 |  TRUE                             | \n",
       "| 391 | 36                                | 4                                 | 135                               |  84                               | 2370                              | 13.0                              | 82                                | 1                                 | dodge charger 2.2                 | 0                                 | 0                                 |  TRUE                             | \n",
       "| 392 | 27                                | 4                                 | 151                               |  90                               | 2950                              | 17.3                              | 82                                | 1                                 | chevrolet camaro                  | 0                                 | 0                                 |  TRUE                             | \n",
       "| 393 | 27                                | 4                                 | 140                               |  86                               | 2790                              | 15.6                              | 82                                | 1                                 | ford mustang gl                   | 0                                 | 0                                 |  TRUE                             | \n",
       "| 394 | 44                                | 4                                 |  97                               |  52                               | 2130                              | 24.6                              | 82                                | 2                                 | vw pickup                         | 0                                 | 0                                 |  TRUE                             | \n",
       "| 395 | 32                                | 4                                 | 135                               |  84                               | 2295                              | 11.6                              | 82                                | 1                                 | dodge rampage                     | 0                                 | 0                                 |  TRUE                             | \n",
       "| 396 | 28                                | 4                                 | 120                               |  79                               | 2625                              | 18.6                              | 82                                | 1                                 | ford ranger                       | 0                                 | 0                                 |  TRUE                             | \n",
       "| 397 | 31                                | 4                                 | 119                               |  82                               | 2720                              | 19.4                              | 82                                | 1                                 | chevy s-10                        | 0                                 | 0                                 |  TRUE                             | \n",
       "\n",
       "\n"
      ],
      "text/plain": [
       "    mpg cylinders displacement horsepower weight acceleration year origin\n",
       "1   18  8         307          130        3504   12.0         70   1     \n",
       "2   15  8         350          165        3693   11.5         70   1     \n",
       "3   18  8         318          150        3436   11.0         70   1     \n",
       "4   16  8         304          150        3433   12.0         70   1     \n",
       "5   17  8         302          140        3449   10.5         70   1     \n",
       "6   15  8         429          198        4341   10.0         70   1     \n",
       "7   14  8         454          220        4354    9.0         70   1     \n",
       "8   14  8         440          215        4312    8.5         70   1     \n",
       "9   14  8         455          225        4425   10.0         70   1     \n",
       "10  15  8         390          190        3850    8.5         70   1     \n",
       "11  15  8         383          170        3563   10.0         70   1     \n",
       "12  14  8         340          160        3609    8.0         70   1     \n",
       "13  15  8         400          150        3761    9.5         70   1     \n",
       "14  14  8         455          225        3086   10.0         70   1     \n",
       "15  24  4         113           95        2372   15.0         70   3     \n",
       "16  22  6         198           95        2833   15.5         70   1     \n",
       "17  18  6         199           97        2774   15.5         70   1     \n",
       "18  21  6         200           85        2587   16.0         70   1     \n",
       "19  27  4          97           88        2130   14.5         70   3     \n",
       "20  26  4          97           46        1835   20.5         70   2     \n",
       "21  25  4         110           87        2672   17.5         70   2     \n",
       "22  24  4         107           90        2430   14.5         70   2     \n",
       "23  25  4         104           95        2375   17.5         70   2     \n",
       "24  26  4         121          113        2234   12.5         70   2     \n",
       "25  21  6         199           90        2648   15.0         70   1     \n",
       "26  10  8         360          215        4615   14.0         70   1     \n",
       "27  10  8         307          200        4376   15.0         70   1     \n",
       "28  11  8         318          210        4382   13.5         70   1     \n",
       "29   9  8         304          193        4732   18.5         70   1     \n",
       "30  27  4          97           88        2130   14.5         71   3     \n",
       "⋮   ⋮   ⋮         ⋮            ⋮          ⋮      ⋮            ⋮    ⋮     \n",
       "368 28  4         112           88        2605   19.6         82   1     \n",
       "369 27  4         112           88        2640   18.6         82   1     \n",
       "370 34  4         112           88        2395   18.0         82   1     \n",
       "371 31  4         112           85        2575   16.2         82   1     \n",
       "372 29  4         135           84        2525   16.0         82   1     \n",
       "373 27  4         151           90        2735   18.0         82   1     \n",
       "374 24  4         140           92        2865   16.4         82   1     \n",
       "375 36  4         105           74        1980   15.3         82   2     \n",
       "376 37  4          91           68        2025   18.2         82   3     \n",
       "377 31  4          91           68        1970   17.6         82   3     \n",
       "378 38  4         105           63        2125   14.7         82   1     \n",
       "379 36  4          98           70        2125   17.3         82   1     \n",
       "380 36  4         120           88        2160   14.5         82   3     \n",
       "381 36  4         107           75        2205   14.5         82   3     \n",
       "382 34  4         108           70        2245   16.9         82   3     \n",
       "383 38  4          91           67        1965   15.0         82   3     \n",
       "384 32  4          91           67        1965   15.7         82   3     \n",
       "385 38  4          91           67        1995   16.2         82   3     \n",
       "386 25  6         181          110        2945   16.4         82   1     \n",
       "387 38  6         262           85        3015   17.0         82   1     \n",
       "388 26  4         156           92        2585   14.5         82   1     \n",
       "389 22  6         232          112        2835   14.7         82   1     \n",
       "390 32  4         144           96        2665   13.9         82   3     \n",
       "391 36  4         135           84        2370   13.0         82   1     \n",
       "392 27  4         151           90        2950   17.3         82   1     \n",
       "393 27  4         140           86        2790   15.6         82   1     \n",
       "394 44  4          97           52        2130   24.6         82   2     \n",
       "395 32  4         135           84        2295   11.6         82   1     \n",
       "396 28  4         120           79        2625   18.6         82   1     \n",
       "397 31  4         119           82        2720   19.4         82   1     \n",
       "    name                              wagon diesel mpg_binary\n",
       "1   chevrolet chevelle malibu         0     0      FALSE     \n",
       "2   buick skylark 320                 0     0      FALSE     \n",
       "3   plymouth satellite                0     0      FALSE     \n",
       "4   amc rebel sst                     0     0      FALSE     \n",
       "5   ford torino                       0     0      FALSE     \n",
       "6   ford galaxie 500                  0     0      FALSE     \n",
       "7   chevrolet impala                  0     0      FALSE     \n",
       "8   plymouth fury iii                 0     0      FALSE     \n",
       "9   pontiac catalina                  0     0      FALSE     \n",
       "10  amc ambassador dpl                0     0      FALSE     \n",
       "11  dodge challenger se               0     0      FALSE     \n",
       "12  plymouth 'cuda 340                0     0      FALSE     \n",
       "13  chevrolet monte carlo             0     0      FALSE     \n",
       "14  buick estate wagon (sw)           1     0      FALSE     \n",
       "15  toyota corona mark ii             0     0       TRUE     \n",
       "16  plymouth duster                   0     0      FALSE     \n",
       "17  amc hornet                        0     0      FALSE     \n",
       "18  ford maverick                     0     0      FALSE     \n",
       "19  datsun pl510                      0     0       TRUE     \n",
       "20  volkswagen 1131 deluxe sedan      0     0       TRUE     \n",
       "21  peugeot 504                       0     0       TRUE     \n",
       "22  audi 100 ls                       0     0       TRUE     \n",
       "23  saab 99e                          0     0       TRUE     \n",
       "24  bmw 2002                          0     0       TRUE     \n",
       "25  amc gremlin                       0     0      FALSE     \n",
       "26  ford f250                         0     0      FALSE     \n",
       "27  chevy c20                         0     0      FALSE     \n",
       "28  dodge d200                        0     0      FALSE     \n",
       "29  hi 1200d                          0     0      FALSE     \n",
       "30  datsun pl510                      0     0       TRUE     \n",
       "⋮   ⋮                                 ⋮     ⋮      ⋮         \n",
       "368 chevrolet cavalier                0     0       TRUE     \n",
       "369 chevrolet cavalier wagon          0     0       TRUE     \n",
       "370 chevrolet cavalier 2-door         0     0       TRUE     \n",
       "371 pontiac j2000 se hatchback        0     0       TRUE     \n",
       "372 dodge aries se                    0     0       TRUE     \n",
       "373 pontiac phoenix                   0     0       TRUE     \n",
       "374 ford fairmont futura              0     0       TRUE     \n",
       "375 volkswagen rabbit l               0     0       TRUE     \n",
       "376 mazda glc custom l                0     0       TRUE     \n",
       "377 mazda glc custom                  0     0       TRUE     \n",
       "378 plymouth horizon miser            0     0       TRUE     \n",
       "379 mercury lynx l                    0     0       TRUE     \n",
       "380 nissan stanza xe                  0     0       TRUE     \n",
       "381 honda accord                      0     0       TRUE     \n",
       "382 toyota corolla                    0     0       TRUE     \n",
       "383 honda civic                       0     0       TRUE     \n",
       "384 honda civic (auto)                0     0       TRUE     \n",
       "385 datsun 310 gx                     0     0       TRUE     \n",
       "386 buick century limited             0     0       TRUE     \n",
       "387 oldsmobile cutlass ciera (diesel) 0     1       TRUE     \n",
       "388 chrysler lebaron medallion        0     0       TRUE     \n",
       "389 ford granada l                    0     0      FALSE     \n",
       "390 toyota celica gt                  0     0       TRUE     \n",
       "391 dodge charger 2.2                 0     0       TRUE     \n",
       "392 chevrolet camaro                  0     0       TRUE     \n",
       "393 ford mustang gl                   0     0       TRUE     \n",
       "394 vw pickup                         0     0       TRUE     \n",
       "395 dodge rampage                     0     0       TRUE     \n",
       "396 ford ranger                       0     0       TRUE     \n",
       "397 chevy s-10                        0     0       TRUE     "
      ]
     },
     "metadata": {},
     "output_type": "display_data"
    }
   ],
   "source": [
    "cars"
   ]
  },
  {
   "cell_type": "code",
   "execution_count": null,
   "metadata": {
    "collapsed": true
   },
   "outputs": [],
   "source": []
  }
 ],
 "metadata": {
  "kernelspec": {
   "display_name": "R",
   "language": "R",
   "name": "ir"
  },
  "language_info": {
   "codemirror_mode": "r",
   "file_extension": ".r",
   "mimetype": "text/x-r-source",
   "name": "R",
   "pygments_lexer": "r",
   "version": "3.3.2"
  }
 },
 "nbformat": 4,
 "nbformat_minor": 0
}
